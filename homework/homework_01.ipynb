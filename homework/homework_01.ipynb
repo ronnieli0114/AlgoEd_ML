{
 "cells": [
  {
   "cell_type": "markdown",
   "metadata": {
    "id": "jVs6wmpMDcAT"
   },
   "source": [
    "# Basic Python Exercises\n",
    "\n",
    "Here are a few exercises for you to work through to practice your Python and NumPy skills before the next class."
   ]
  },
  {
   "cell_type": "code",
   "execution_count": 1,
   "metadata": {},
   "outputs": [],
   "source": [
    "import numpy as np # please run this!"
   ]
  },
  {
   "cell_type": "markdown",
   "metadata": {
    "id": "JzlBn7wbDpQb"
   },
   "source": [
    "## Exercise 1.1: Less than N\n",
    "Take a list, say for example this one:\n",
    "\n",
    "  a = [1, 1, 2, 3, 5, 8, 13, 21, 34, 55, 89]\n",
    "\n",
    "and write a function that prints out all the elements of the list passed to it that **are less than N**.\n",
    "\n",
    "Extras:\n",
    "\n",
    "1. Instead of printing the elements one by one, make a new list that has all the elements less than N from this list in it and print out this new list.\n",
    "\n",
    "2. Write this function in one line of Python."
   ]
  },
  {
   "cell_type": "code",
   "execution_count": null,
   "metadata": {
    "id": "8C9rzXOfEUkd"
   },
   "outputs": [],
   "source": [
    "def less_than(mylist, n):\n",
    "  pass # Your solution goes here."
   ]
  },
  {
   "cell_type": "markdown",
   "metadata": {
    "id": "ldDwHPpZEst7"
   },
   "source": [
    "## Exercise 1.2: Remove Duplicates\n",
    "\n",
    "Write a function that takes a list and returns a new list that contains all the elements of the first list minus all the duplicates.\n",
    "\n",
    "**Hint**: what data structure can you use to make this easy?"
   ]
  },
  {
   "cell_type": "code",
   "execution_count": null,
   "metadata": {
    "id": "93UfdSoGE9dy"
   },
   "outputs": [],
   "source": [
    "def remove_dups(mylist):\n",
    "  pass # Your solution goes here."
   ]
  },
  {
   "cell_type": "markdown",
   "metadata": {
    "id": "bJ5T9iL2FHrG"
   },
   "source": [
    "## Exercise 1.3: List Comprehensions\n",
    "\n",
    "Let’s say I give you a list saved in a variable: a = [1, 4, 9, 16, 25, 36, 49, 64, 81, 100]. Write one line of Python that takes this list a and makes a new list that has only the even elements of this list in it.\n",
    "\n",
    "**Hint**: there is a very useful operator that you should look up in the Python documentation that will make this easy."
   ]
  },
  {
   "cell_type": "code",
   "execution_count": null,
   "metadata": {
    "id": "jWuoja7GFl_L"
   },
   "outputs": [],
   "source": [
    "a =  [1, 4, 9, 16, 25, 36, 49, 64, 81, 100]\n",
    "# Your solution goes here."
   ]
  },
  {
   "cell_type": "markdown",
   "metadata": {
    "id": "w5UzSinZFz5o"
   },
   "source": [
    "## Exercise 1.4: First and Last\n",
    "Write a function that takes a list (for example, [5, 10, 15, 20, 25]) and makes returns a new **tuple** of only the first and last elements of the given list.\n"
   ]
  },
  {
   "cell_type": "code",
   "execution_count": null,
   "metadata": {
    "id": "hbWF9-TKGDBi"
   },
   "outputs": [],
   "source": [
    "# Your solution goes here."
   ]
  },
  {
   "cell_type": "markdown",
   "metadata": {},
   "source": [
    "# NumPy Exercises "
   ]
  },
  {
   "cell_type": "markdown",
   "metadata": {},
   "source": [
    "## Exercise 2.1: Generating a NumPy Array\n",
    "First set the random seed to 2024 so everyone generates the same array. Use np.random.seed(2024)\n",
    "\n",
    "Generate a NumPy array using np.random.randint with minimum value of 0, maximum value of 100, and a size of 100 rows x 50 columns (100,50)."
   ]
  },
  {
   "cell_type": "code",
   "execution_count": null,
   "metadata": {},
   "outputs": [],
   "source": [
    "np.random.seed(2024) # DO NOT EDIT THIS LINE\n",
    "\n",
    "# Your solution goes here"
   ]
  },
  {
   "cell_type": "markdown",
   "metadata": {},
   "source": [
    "## Exercise 2.2: Calculate Descriptive Statistics\n",
    "\n",
    "Define a function that returns the mean and the standard deviation of a NumPy array as a Python **tuple**."
   ]
  },
  {
   "cell_type": "code",
   "execution_count": null,
   "metadata": {},
   "outputs": [],
   "source": [
    "arr = np.array([1, 4, 9, 16, 25, 36, 49, 64, 81, 100])\n",
    "\n",
    "def mean_SD(arr):\n",
    "    pass # your solution goes here"
   ]
  },
  {
   "cell_type": "markdown",
   "metadata": {},
   "source": [
    "## Exercise 2.3: Slicing NumPy Arrays\n",
    "\n",
    "Given the following NumPy array, I want you to **only** extract the number 7 from the array using slicing methods."
   ]
  },
  {
   "cell_type": "code",
   "execution_count": null,
   "metadata": {},
   "outputs": [],
   "source": [
    "arr2 = np.array([[1,2,6,13],[1,-17,3,7],[-8,2,19,5]])\n",
    "\n",
    "# Your solution goes here"
   ]
  }
 ],
 "metadata": {
  "colab": {
   "private_outputs": true,
   "provenance": []
  },
  "kernelspec": {
   "display_name": "Python 3 (ipykernel)",
   "language": "python",
   "name": "python3"
  },
  "language_info": {
   "codemirror_mode": {
    "name": "ipython",
    "version": 3
   },
   "file_extension": ".py",
   "mimetype": "text/x-python",
   "name": "python",
   "nbconvert_exporter": "python",
   "pygments_lexer": "ipython3",
   "version": "3.9.7"
  }
 },
 "nbformat": 4,
 "nbformat_minor": 4
}
